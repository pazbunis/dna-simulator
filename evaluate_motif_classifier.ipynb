{
 "cells": [
  {
   "cell_type": "markdown",
   "metadata": {
    "deletable": true,
    "editable": true
   },
   "source": [
    "# Evaluate a Motif Classifier"
   ]
  },
  {
   "cell_type": "markdown",
   "metadata": {
    "deletable": true,
    "editable": true
   },
   "source": [
    "## Select and Load Data-Set"
   ]
  },
  {
   "cell_type": "code",
   "execution_count": 24,
   "metadata": {
    "collapsed": false,
    "deletable": true,
    "editable": true,
    "scrolled": true
   },
   "outputs": [
    {
     "name": "stdout",
     "output_type": "stream",
     "text": [
      "loading data...\n",
      "data-set size: 265092\n",
      "converting to model input types...\n",
      "locked and loaded!\n"
     ]
    }
   ],
   "source": [
    "import numpy as np\n",
    "import motifs as mf\n",
    "from scipy import signal\n",
    "\n",
    "dataset_path = '/cs/grad/pazbu/paz/dev/projects/dna-simulator/ds.130KP.single.motif.130KN.npy'\n",
    "\n",
    "print('loading data...')\n",
    "data = np.load(dataset_path)\n",
    "print('data-set size:', len(data))\n",
    "\n",
    "print('converting to model input types...')\n",
    "test_onehot_X = list(map(lambda x: x.onehot(), data))\n",
    "test_y = list(map(lambda x: x.label == 'ENHANCER', data))\n",
    "print('locked and loaded!')"
   ]
  },
  {
   "cell_type": "markdown",
   "metadata": {
    "deletable": true,
    "editable": true
   },
   "source": [
    "## Select Motif"
   ]
  },
  {
   "cell_type": "code",
   "execution_count": 5,
   "metadata": {
    "collapsed": false,
    "deletable": true,
    "editable": true
   },
   "outputs": [],
   "source": [
    "header, pwm = mf.get_motif_pwm('motifs/known1.motif')"
   ]
  },
  {
   "cell_type": "markdown",
   "metadata": {
    "deletable": true,
    "editable": true
   },
   "source": [
    "## Evaluate"
   ]
  },
  {
   "cell_type": "code",
   "execution_count": 28,
   "metadata": {
    "collapsed": false,
    "deletable": true,
    "editable": true,
    "scrolled": false
   },
   "outputs": [
    {
     "name": "stdout",
     "output_type": "stream",
     "text": [
      "0.5\n"
     ]
    }
   ],
   "source": [
    "cols = np.shape(pwm)[1]\n",
    "thresh = cols * 0.25\n",
    "\n",
    "num_correct = 0.0\n",
    "outs = []\n",
    "for i in range(len(test_onehot_X)):\n",
    "    conv_out = signal.convolve2d(test_onehot_X[i], pwm, boundary='symm', mode='valid')\n",
    "    outs.append(np.max(conv_out))\n",
    "    pred = np.max(conv_out) > thresh\n",
    "    if pred == test_y[i]:\n",
    "        num_correct += 1\n",
    "\n",
    "print(num_correct / len(test_onehot_X))"
   ]
  },
  {
   "cell_type": "code",
   "execution_count": 42,
   "metadata": {
    "collapsed": false,
    "deletable": true,
    "editable": true,
    "scrolled": false
   },
   "outputs": [
    {
     "data": {
      "text/plain": [
       "True"
      ]
     },
     "execution_count": 42,
     "metadata": {},
     "output_type": "execute_result"
    }
   ],
   "source": [
    "# np.sum(pwm)\n",
    "# test_y\n",
    "# t = 9\n",
    "np.max(conv_out) > thresh\n",
    "# num_correct = 0.0\n",
    "# for i in range(len(test_onehot_X)):\n",
    "#     pred = outs[i] > t\n",
    "#     if pred == test_y[i]:\n",
    "#         num_correct += 1\n",
    "        \n",
    "# print(num_correct / len(test_onehot_X))"
   ]
  },
  {
   "cell_type": "markdown",
   "metadata": {
    "deletable": true,
    "editable": true
   },
   "source": [
    "## Delete the Extracted Files "
   ]
  },
  {
   "cell_type": "code",
   "execution_count": 6,
   "metadata": {
    "collapsed": false,
    "deletable": true,
    "editable": true
   },
   "outputs": [
    {
     "name": "stdout",
     "output_type": "stream",
     "text": [
      "rm: cannot remove 'tmp/1': Is a directory\r\n",
      "rm: cannot remove 'tmp/20170327173630.FnEAmywR backup': Is a directory\r\n"
     ]
    }
   ],
   "source": [
    "!rm -f tmp/*"
   ]
  }
 ],
 "metadata": {
  "kernelspec": {
   "display_name": "Python 3",
   "language": "python",
   "name": "python3"
  },
  "language_info": {
   "codemirror_mode": {
    "name": "ipython",
    "version": 3
   },
   "file_extension": ".py",
   "mimetype": "text/x-python",
   "name": "python",
   "nbconvert_exporter": "python",
   "pygments_lexer": "ipython3",
   "version": "3.5.2+"
  }
 },
 "nbformat": 4,
 "nbformat_minor": 0
}
